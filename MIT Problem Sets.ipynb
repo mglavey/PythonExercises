{
 "cells": [
  {
   "cell_type": "markdown",
   "metadata": {},
   "source": [
    "# Problem 1:\n",
    "Assume that two variables, varA and varB, are assigned values, either numbers or strings.\n",
    "\n",
    "Write a piece of Python code that evaluates varA and varB, and then prints out one of the following messages:\n",
    "\n",
    "\"string involved\" if either varA or varB are strings\n",
    "\n",
    "\"bigger\" if varA is larger than varB\n",
    "\n",
    "\"equal\" if varA is equal to varB\n",
    "\n",
    "\"smaller\" if varA is smaller than varB"
   ]
  },
  {
   "cell_type": "code",
   "execution_count": 20,
   "metadata": {},
   "outputs": [
    {
     "name": "stdout",
     "output_type": "stream",
     "text": [
      "string involved\n"
     ]
    }
   ],
   "source": [
    "varA= 'fjfkfkdkdkd'\n",
    "varB= 'fjfldlldlldldldl'\n",
    "\n",
    "def check():\n",
    "    if type(varA) == str or type(varB) == str:\n",
    "        print('string involved')\n",
    "    elif varA > varB:\n",
    "        print('bigger')\n",
    "    elif varA == varB:\n",
    "        print('equal')\n",
    "    else:\n",
    "    # If none of the above conditions are true,\n",
    "    # it must be the case that varA < varB\n",
    "        print('smaller')\n",
    "        \n",
    "check()"
   ]
  },
  {
   "cell_type": "code",
   "execution_count": null,
   "metadata": {},
   "outputs": [],
   "source": []
  }
 ],
 "metadata": {
  "kernelspec": {
   "display_name": "Python 3",
   "language": "python",
   "name": "python3"
  },
  "language_info": {
   "codemirror_mode": {
    "name": "ipython",
    "version": 3
   },
   "file_extension": ".py",
   "mimetype": "text/x-python",
   "name": "python",
   "nbconvert_exporter": "python",
   "pygments_lexer": "ipython3",
   "version": "3.6.4"
  }
 },
 "nbformat": 4,
 "nbformat_minor": 2
}

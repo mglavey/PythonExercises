{
 "cells": [
  {
   "cell_type": "code",
   "execution_count": 5,
   "metadata": {},
   "outputs": [],
   "source": [
    "input_array = [2, 3, 1]\n",
    "\n",
    "def gimme(input_array):\n",
    "    for item in input_array:\n",
    "        if item != min(input_array) and item !=max(input_array):\n",
    "            return input_array.index(item)\n",
    "    "
   ]
  },
  {
   "cell_type": "code",
   "execution_count": null,
   "metadata": {},
   "outputs": [],
   "source": []
  },
  {
   "cell_type": "markdown",
   "metadata": {},
   "source": [
    "### After a hard quarter in the office you decide to get some rest on a vacation. So you will book a flight for you and your girlfriend and try to leave all the mess behind you.\n",
    "\n",
    "You will need a rental car in order for you to get around in your vacation. The manager of the car rental makes you some good offers.\n",
    "\n",
    "Every day you rent the car costs 40. If you rent the car for 7 or more days, you get 50 off your total. Alternatively, if you rent the car for 3 or more days, you get 20 off your total.\n",
    "\n",
    "Write a code that gives out the total amount for different days(d)."
   ]
  },
  {
   "cell_type": "code",
   "execution_count": null,
   "metadata": {},
   "outputs": [],
   "source": [
    "def rental_car_cost(d):\n",
    "    if d>=7:\n",
    "        return (d)*40-50\n",
    "    elif 7>=d>=3:\n",
    "        return (d)*40-20\n",
    "    elif d==2:\n",
    "        return 80\n",
    "    elif d==1:\n",
    "        return 40"
   ]
  },
  {
   "cell_type": "markdown",
   "metadata": {},
   "source": [
    "### Given two numbers and an arithmetic operator (the name of it, as a string), return the result of the two numbers having that operator used on them.\n",
    "\n",
    "a and b will both be positive integers, and a will always be the first number in the operation, and b always the second.\n",
    "\n",
    "The four operators are \"add\", \"subtract\", \"divide\", \"multiply\"."
   ]
  },
  {
   "cell_type": "code",
   "execution_count": 6,
   "metadata": {},
   "outputs": [],
   "source": [
    "def arithmetic(a, b, operator):\n",
    "    if operator == \"add\":\n",
    "        return (a+b)\n",
    "    elif operator == \"subtract\":\n",
    "        return (a-b)\n",
    "    elif operator == \"multiply\":\n",
    "        return (a*b)\n",
    "    elif operator == \"divide\":\n",
    "        return (a/b)"
   ]
  },
  {
   "cell_type": "markdown",
   "metadata": {},
   "source": [
    "### It's pretty straightforward. Your goal is to create a function that removes the first and last characters of a string. You're given one parameter, the original string. \n",
    "You don't have to worry with strings with less than two characters. "
   ]
  },
  {
   "cell_type": "code",
   "execution_count": 1,
   "metadata": {},
   "outputs": [],
   "source": [
    "def remove_char(s):\n",
    "    list(s)\n",
    "    return s[1:-1]"
   ]
  },
  {
   "cell_type": "code",
   "execution_count": null,
   "metadata": {},
   "outputs": [],
   "source": []
  }
 ],
 "metadata": {
  "kernelspec": {
   "display_name": "Python 3",
   "language": "python",
   "name": "python3"
  },
  "language_info": {
   "codemirror_mode": {
    "name": "ipython",
    "version": 3
   },
   "file_extension": ".py",
   "mimetype": "text/x-python",
   "name": "python",
   "nbconvert_exporter": "python",
   "pygments_lexer": "ipython3",
   "version": "3.6.4"
  }
 },
 "nbformat": 4,
 "nbformat_minor": 2
}
